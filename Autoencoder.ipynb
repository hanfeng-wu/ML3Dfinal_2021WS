{
 "cells": [
  {
   "cell_type": "markdown",
   "metadata": {},
   "source": [
    "# Project imports"
   ]
  },
  {
   "cell_type": "code",
   "execution_count": 1,
   "metadata": {},
   "outputs": [
    {
     "name": "stdout",
     "output_type": "stream",
     "text": [
      "cuda\n"
     ]
    }
   ],
   "source": [
    "\"\"\"\n",
    "All needed imports included here\n",
    "\"\"\"\n",
    "%load_ext autoreload\n",
    "%autoreload 2\n",
    "from pathlib import Path\n",
    "import numpy as np\n",
    "import matplotlib as plt\n",
    "import torch\n",
    "import pytorch_lightning as pl\n",
    "\n",
    "\n",
    "device = torch.device(\"cuda\" if torch.cuda.is_available() else \"cpu\")\n",
    "print(device)\n"
   ]
  },
  {
   "cell_type": "markdown",
   "metadata": {},
   "source": [
    "# Data Loading step"
   ]
  },
  {
   "cell_type": "code",
   "execution_count": 2,
   "metadata": {},
   "outputs": [
    {
     "name": "stdout",
     "output_type": "stream",
     "text": [
      "Name: 02691156/3fb3fa76a2e67bae71d03b466c72ce41\n",
      "Voxel Dimensions: (1, 128, 128, 128)\n",
      "Test Set Size: 35765\n"
     ]
    },
    {
     "data": {
      "application/vnd.jupyter.widget-view+json": {
       "model_id": "5af11685e10147acb07cce74a5ba58f0",
       "version_major": 2,
       "version_minor": 0
      },
      "text/plain": [
       "Output()"
      ]
     },
     "metadata": {},
     "output_type": "display_data"
    }
   ],
   "source": [
    "\"\"\"\n",
    "Create data loaders and augmentations needed here\n",
    "\"\"\"\n",
    "from Data.ShapeNetDataLoader import ShapeNetVoxelData\n",
    "from Utils.visualization import visualize_occupancy\n",
    "train_data = ShapeNetVoxelData(shapenet_core_path=Path(\"D:\\ShapeNetCore.v2\"), shapenet_splits_csv_path=Path(\"Data/shapenet_splits.csv\"), split=\"train\")\n",
    "\n",
    "train_sample = train_data[7]\n",
    "print(f'Name: {train_sample[\"name\"]}')  # expected output: 03211117/edfc3a8ecc5b07e9feb0fb1dff94c98a\n",
    "print(f'Voxel Dimensions: {train_sample[\"voxel\"].shape}')\n",
    "print(f\"Test Set Size: {len(train_data)}\")\n",
    "\n",
    "visualize_occupancy(train_sample[\"voxel\"].squeeze(), flip_axes=True)"
   ]
  },
  {
   "cell_type": "markdown",
   "metadata": {},
   "source": [
    "# Reconstruction Networks"
   ]
  },
  {
   "cell_type": "code",
   "execution_count": 3,
   "metadata": {},
   "outputs": [
    {
     "ename": "NameError",
     "evalue": "name 'dataloader' is not defined",
     "output_type": "error",
     "traceback": [
      "\u001b[1;31m---------------------------------------------------------------------------\u001b[0m",
      "\u001b[1;31mNameError\u001b[0m                                 Traceback (most recent call last)",
      "\u001b[1;32m~\\AppData\\Local\\Temp/ipykernel_18212/1091855428.py\u001b[0m in \u001b[0;36m<module>\u001b[1;34m\u001b[0m\n\u001b[0;32m      4\u001b[0m \u001b[1;32mfrom\u001b[0m \u001b[0mNetworks\u001b[0m\u001b[1;33m.\u001b[0m\u001b[0mImage2Mesh\u001b[0m \u001b[1;32mimport\u001b[0m \u001b[0mImage2Voxel\u001b[0m\u001b[1;33m\u001b[0m\u001b[1;33m\u001b[0m\u001b[0m\n\u001b[0;32m      5\u001b[0m \u001b[1;33m\u001b[0m\u001b[0m\n\u001b[1;32m----> 6\u001b[1;33m \u001b[0mmodel\u001b[0m \u001b[1;33m=\u001b[0m \u001b[0mImage2Voxel\u001b[0m\u001b[1;33m(\u001b[0m\u001b[0mdataloader\u001b[0m\u001b[1;33m,\u001b[0m\u001b[0mdataloader\u001b[0m\u001b[1;33m,\u001b[0m\u001b[0mdataloader\u001b[0m\u001b[1;33m,\u001b[0m\u001b[0mdevice\u001b[0m\u001b[1;33m)\u001b[0m\u001b[1;33m\u001b[0m\u001b[1;33m\u001b[0m\u001b[0m\n\u001b[0m\u001b[0;32m      7\u001b[0m \u001b[1;33m\u001b[0m\u001b[0m\n\u001b[0;32m      8\u001b[0m \u001b[0mX\u001b[0m \u001b[1;33m=\u001b[0m \u001b[0mtorch\u001b[0m\u001b[1;33m.\u001b[0m\u001b[0mrand\u001b[0m\u001b[1;33m(\u001b[0m\u001b[1;36m10\u001b[0m\u001b[1;33m,\u001b[0m\u001b[1;36m3\u001b[0m\u001b[1;33m,\u001b[0m\u001b[1;36m32\u001b[0m\u001b[1;33m,\u001b[0m\u001b[1;36m32\u001b[0m\u001b[1;33m)\u001b[0m\u001b[1;33m\u001b[0m\u001b[1;33m\u001b[0m\u001b[0m\n",
      "\u001b[1;31mNameError\u001b[0m: name 'dataloader' is not defined"
     ]
    }
   ],
   "source": [
    "\"\"\"\n",
    "creation, training, and testing of the image2mesh reconstruction networks\n",
    "\"\"\"\n",
    "from Networks.Image2Mesh import Image2Voxel\n",
    "\n",
    "model = Image2Voxel(dataloader,dataloader,dataloader,device)\n",
    "\n",
    "X = torch.rand(10,3,32,32)\n",
    "pred = model(X)"
   ]
  },
  {
   "cell_type": "code",
   "execution_count": 7,
   "metadata": {},
   "outputs": [
    {
     "name": "stderr",
     "output_type": "stream",
     "text": [
      "GPU available: True, used: True\n",
      "TPU available: False, using: 0 TPU cores\n",
      "LOCAL_RANK: 0 - CUDA_VISIBLE_DEVICES: [0]\n",
      "\n",
      "  | Name  | Type    | Params\n",
      "----------------------------------\n",
      "0 | model | Network | 67.1 M\n"
     ]
    },
    {
     "name": "stdout",
     "output_type": "stream",
     "text": [
      "Epoch 0:   0%|          | 0/4 [00:00<?, ?it/s]                        "
     ]
    },
    {
     "name": "stderr",
     "output_type": "stream",
     "text": [
      "F:\\Python\\Anaconda\\envs\\ml3d\\lib\\site-packages\\pytorch_lightning\\utilities\\distributed.py:45: UserWarning: The {log:dict keyword} was deprecated in 0.9.1 and will be removed in 1.0.0\n",
      "Please use self.log(...) inside the lightningModule instead.\n",
      "\n",
      "# log on a step or aggregate epoch metric to the logger and/or progress bar\n",
      "# (inside LightningModule)\n",
      "self.log('train_loss', loss, on_step=True, on_epoch=True, prog_bar=True)\n",
      "  warnings.warn(*args, **kwargs)\n"
     ]
    },
    {
     "name": "stdout",
     "output_type": "stream",
     "text": [
      "Epoch 14: 100%|██████████| 4/4 [00:13<00:00,  3.46s/it, loss=0.483, v_num=16]"
     ]
    },
    {
     "name": "stderr",
     "output_type": "stream",
     "text": [
      "\n",
      "\n",
      "Profiler Report\n",
      "\n",
      "Action              \t|  Mean duration (s)\t|  Total time (s) \n",
      "-----------------------------------------------------------------\n",
      "on_fit_start        \t|  0.0            \t|  0.0            \n",
      "on_validation_start \t|  0.0019375      \t|  0.031          \n",
      "on_validation_epoch_start\t|  0.0            \t|  0.0            \n",
      "on_validation_batch_start\t|  0.0            \t|  0.0            \n",
      "validation_step_end \t|  0.0            \t|  0.0            \n",
      "on_validation_batch_end\t|  0.0            \t|  0.0            \n",
      "on_validation_epoch_end\t|  0.0            \t|  0.0            \n",
      "on_validation_end   \t|  5.8144         \t|  93.03          \n",
      "on_train_start      \t|  0.016          \t|  0.016          \n",
      "on_epoch_start      \t|  0.0010667      \t|  0.016          \n",
      "on_train_epoch_start\t|  0.0            \t|  0.0            \n",
      "get_train_batch     \t|  0.0037         \t|  0.111          \n",
      "on_batch_start      \t|  0.0            \t|  0.0            \n",
      "on_train_batch_start\t|  0.0            \t|  0.0            \n",
      "training_step_end   \t|  0.0            \t|  0.0            \n",
      "model_forward       \t|  0.043167       \t|  1.295          \n",
      "model_backward      \t|  0.0104         \t|  0.312          \n",
      "on_after_backward   \t|  0.0            \t|  0.0            \n",
      "optimizer_step      \t|  0.057733       \t|  1.732          \n",
      "on_batch_end        \t|  0.0            \t|  0.0            \n",
      "on_train_batch_end  \t|  0.0            \t|  0.0            \n",
      "on_epoch_end        \t|  0.0            \t|  0.0            \n",
      "on_train_epoch_end  \t|  0.0            \t|  0.0            \n",
      "on_train_end        \t|  0.0            \t|  0.0            \n",
      "\n"
     ]
    },
    {
     "name": "stdout",
     "output_type": "stream",
     "text": [
      "\n"
     ]
    },
    {
     "data": {
      "text/plain": [
       "1"
      ]
     },
     "execution_count": 7,
     "metadata": {},
     "output_type": "execute_result"
    }
   ],
   "source": [
    "trainer = pl.Trainer(\n",
    "    max_epochs=15,\n",
    "    gpus=1 if torch.cuda.is_available() else None,\n",
    "    profiler=True,\n",
    "    progress_bar_refresh_rate=15\n",
    ")\n",
    "\n",
    "trainer.fit(model)"
   ]
  },
  {
   "cell_type": "markdown",
   "metadata": {},
   "source": [
    "# Purifying predicted Meshes"
   ]
  },
  {
   "cell_type": "code",
   "execution_count": null,
   "metadata": {},
   "outputs": [],
   "source": [
    "\"\"\"\n",
    "Code to purify meshes predicted by the previous networks to be used in the retrieval step\n",
    "\"\"\""
   ]
  },
  {
   "cell_type": "markdown",
   "metadata": {},
   "source": [
    "# Mesh Encoding"
   ]
  },
  {
   "cell_type": "code",
   "execution_count": 21,
   "metadata": {},
   "outputs": [
    {
     "name": "stdout",
     "output_type": "stream",
     "text": [
      "torch.Size([3, 512])\n",
      "torch.Size([3, 512])\n",
      "tensor([[[[[0.1390, 0.2012, 0.1527,  ..., 0.0746, 0.1578, 0.0236],\n",
      "           [0.0259, 0.0618, 0.1819,  ..., 0.2211, 0.1544, 0.0981],\n",
      "           [0.1825, 0.1343, 0.2510,  ..., 0.2210, 0.0148, 0.0717],\n",
      "           ...,\n",
      "           [0.1906, 0.1337, 0.0397,  ..., 0.1390, 0.1084, 0.0808],\n",
      "           [0.1426, 0.0836, 0.0915,  ..., 0.1328, 0.1269, 0.1110],\n",
      "           [0.1215, 0.0953, 0.1160,  ..., 0.1442, 0.1059, 0.0806]],\n",
      "\n",
      "          [[0.1000, 0.1592, 0.0977,  ..., 0.0543, 0.1116, 0.0279],\n",
      "           [0.1023, 0.1643, 0.1212,  ..., 0.0497, 0.1079, 0.0980],\n",
      "           [0.1320, 0.1262, 0.1754,  ..., 0.1935, 0.0958, 0.0679],\n",
      "           ...,\n",
      "           [0.0859, 0.1047, 0.1924,  ..., 0.1235, 0.0676, 0.0934],\n",
      "           [0.1104, 0.0832, 0.0138,  ..., 0.0573, 0.0996, 0.0940],\n",
      "           [0.1021, 0.1190, 0.0771,  ..., 0.1162, 0.1275, 0.1293]],\n",
      "\n",
      "          [[0.1242, 0.2308, 0.0000,  ..., 0.0000, 0.0754, 0.0551],\n",
      "           [0.1171, 0.1003, 0.0691,  ..., 0.1246, 0.1138, 0.0000],\n",
      "           [0.0225, 0.0750, 0.1239,  ..., 0.1299, 0.0672, 0.0351],\n",
      "           ...,\n",
      "           [0.2032, 0.0373, 0.2346,  ..., 0.0443, 0.1139, 0.1536],\n",
      "           [0.1038, 0.1526, 0.1163,  ..., 0.1335, 0.1329, 0.1141],\n",
      "           [0.0569, 0.0736, 0.1228,  ..., 0.0722, 0.0895, 0.0872]],\n",
      "\n",
      "          ...,\n",
      "\n",
      "          [[0.1664, 0.1022, 0.0000,  ..., 0.0000, 0.0815, 0.0584],\n",
      "           [0.1730, 0.0904, 0.1722,  ..., 0.1009, 0.0928, 0.0000],\n",
      "           [0.0000, 0.0845, 0.1211,  ..., 0.1036, 0.1099, 0.1638],\n",
      "           ...,\n",
      "           [0.1065, 0.0086, 0.1778,  ..., 0.2007, 0.0000, 0.0564],\n",
      "           [0.0985, 0.1617, 0.0409,  ..., 0.0000, 0.1369, 0.1001],\n",
      "           [0.1174, 0.0203, 0.0134,  ..., 0.1834, 0.1795, 0.0610]],\n",
      "\n",
      "          [[0.1844, 0.0597, 0.1281,  ..., 0.0577, 0.1588, 0.1386],\n",
      "           [0.1111, 0.0396, 0.1394,  ..., 0.0733, 0.0435, 0.0091],\n",
      "           [0.0869, 0.1404, 0.1215,  ..., 0.2709, 0.0679, 0.0571],\n",
      "           ...,\n",
      "           [0.1509, 0.0000, 0.1076,  ..., 0.1511, 0.0000, 0.1456],\n",
      "           [0.1648, 0.0842, 0.1197,  ..., 0.1148, 0.1473, 0.1517],\n",
      "           [0.1139, 0.0811, 0.1812,  ..., 0.0588, 0.0405, 0.0436]],\n",
      "\n",
      "          [[0.0567, 0.1153, 0.1459,  ..., 0.0399, 0.0807, 0.1090],\n",
      "           [0.1012, 0.1223, 0.0785,  ..., 0.1317, 0.0688, 0.1715],\n",
      "           [0.1289, 0.1507, 0.0041,  ..., 0.0574, 0.2115, 0.0891],\n",
      "           ...,\n",
      "           [0.1378, 0.0226, 0.1773,  ..., 0.0000, 0.1130, 0.1872],\n",
      "           [0.1318, 0.0774, 0.0643,  ..., 0.0287, 0.1260, 0.1376],\n",
      "           [0.0924, 0.1233, 0.0638,  ..., 0.1141, 0.0784, 0.1459]]]],\n",
      "\n",
      "\n",
      "\n",
      "        [[[[0.1361, 0.1065, 0.1024,  ..., 0.1292, 0.1712, 0.0708],\n",
      "           [0.1011, 0.1146, 0.1480,  ..., 0.1562, 0.0971, 0.0592],\n",
      "           [0.0979, 0.1026, 0.1793,  ..., 0.1735, 0.0657, 0.0844],\n",
      "           ...,\n",
      "           [0.2526, 0.1533, 0.0116,  ..., 0.1930, 0.0977, 0.0817],\n",
      "           [0.1491, 0.0512, 0.0837,  ..., 0.1192, 0.1555, 0.1017],\n",
      "           [0.1257, 0.1053, 0.1514,  ..., 0.1362, 0.0982, 0.0586]],\n",
      "\n",
      "          [[0.1106, 0.1235, 0.1036,  ..., 0.0501, 0.0895, 0.0746],\n",
      "           [0.1296, 0.1076, 0.1017,  ..., 0.0963, 0.0909, 0.1289],\n",
      "           [0.1526, 0.0997, 0.1391,  ..., 0.1850, 0.1421, 0.0992],\n",
      "           ...,\n",
      "           [0.0720, 0.1062, 0.1900,  ..., 0.0757, 0.0651, 0.1000],\n",
      "           [0.1151, 0.0700, 0.0471,  ..., 0.0112, 0.0802, 0.0880],\n",
      "           [0.1232, 0.0916, 0.0821,  ..., 0.0781, 0.1016, 0.1466]],\n",
      "\n",
      "          [[0.1023, 0.1633, 0.0333,  ..., 0.0531, 0.0852, 0.0760],\n",
      "           [0.1276, 0.0973, 0.0932,  ..., 0.1806, 0.0628, 0.0150],\n",
      "           [0.0677, 0.0830, 0.0986,  ..., 0.1244, 0.0199, 0.0306],\n",
      "           ...,\n",
      "           [0.2625, 0.0183, 0.2544,  ..., 0.0913, 0.1363, 0.1518],\n",
      "           [0.0563, 0.1445, 0.0905,  ..., 0.0607, 0.1227, 0.0760],\n",
      "           [0.0287, 0.0808, 0.0641,  ..., 0.0866, 0.0781, 0.0565]],\n",
      "\n",
      "          ...,\n",
      "\n",
      "          [[0.1871, 0.0769, 0.0992,  ..., 0.0000, 0.0697, 0.0798],\n",
      "           [0.1726, 0.0636, 0.2732,  ..., 0.1287, 0.0870, 0.0554],\n",
      "           [0.0000, 0.0261, 0.0120,  ..., 0.0792, 0.1178, 0.1304],\n",
      "           ...,\n",
      "           [0.1301, 0.0264, 0.1330,  ..., 0.2489, 0.0159, 0.1088],\n",
      "           [0.0956, 0.1516, 0.0123,  ..., 0.0000, 0.1741, 0.1064],\n",
      "           [0.1147, 0.0645, 0.0240,  ..., 0.2026, 0.1730, 0.0469]],\n",
      "\n",
      "          [[0.1986, 0.1023, 0.1850,  ..., 0.1084, 0.1199, 0.1462],\n",
      "           [0.0844, 0.0000, 0.1985,  ..., 0.0674, 0.0682, 0.0605],\n",
      "           [0.0992, 0.1348, 0.0539,  ..., 0.1631, 0.1329, 0.1099],\n",
      "           ...,\n",
      "           [0.1790, 0.0461, 0.0784,  ..., 0.1583, 0.0257, 0.1026],\n",
      "           [0.1523, 0.0993, 0.1136,  ..., 0.0863, 0.1312, 0.1361],\n",
      "           [0.1191, 0.1195, 0.1457,  ..., 0.0797, 0.0475, 0.0319]],\n",
      "\n",
      "          [[0.0414, 0.1443, 0.1715,  ..., 0.0755, 0.1119, 0.1225],\n",
      "           [0.0152, 0.1792, 0.0439,  ..., 0.1500, 0.1028, 0.1415],\n",
      "           [0.1640, 0.1284, 0.0333,  ..., 0.1185, 0.1786, 0.1080],\n",
      "           ...,\n",
      "           [0.1399, 0.0613, 0.1943,  ..., 0.0000, 0.0563, 0.1946],\n",
      "           [0.1376, 0.1024, 0.0940,  ..., 0.0000, 0.1277, 0.1028],\n",
      "           [0.1082, 0.1113, 0.0949,  ..., 0.0612, 0.1339, 0.1289]]]],\n",
      "\n",
      "\n",
      "\n",
      "        [[[[0.1416, 0.1429, 0.1486,  ..., 0.0718, 0.1659, 0.0404],\n",
      "           [0.0725, 0.0829, 0.1498,  ..., 0.1618, 0.1226, 0.0517],\n",
      "           [0.1357, 0.0908, 0.1860,  ..., 0.1829, 0.0097, 0.0935],\n",
      "           ...,\n",
      "           [0.1374, 0.1370, 0.2429,  ..., 0.1853, 0.1119, 0.0960],\n",
      "           [0.1326, 0.1491, 0.1602,  ..., 0.1267, 0.1437, 0.1075],\n",
      "           [0.0707, 0.0748, 0.1625,  ..., 0.1507, 0.0941, 0.0779]],\n",
      "\n",
      "          [[0.1164, 0.1257, 0.1101,  ..., 0.0496, 0.0807, 0.0275],\n",
      "           [0.1212, 0.1326, 0.1313,  ..., 0.0834, 0.1226, 0.1205],\n",
      "           [0.1247, 0.1257, 0.2192,  ..., 0.1790, 0.1495, 0.1339],\n",
      "           ...,\n",
      "           [0.1503, 0.0983, 0.1910,  ..., 0.1063, 0.0896, 0.1102],\n",
      "           [0.1172, 0.1405, 0.0856,  ..., 0.0378, 0.0962, 0.1057],\n",
      "           [0.0700, 0.1467, 0.1135,  ..., 0.0863, 0.1114, 0.1303]],\n",
      "\n",
      "          [[0.1193, 0.1932, 0.0000,  ..., 0.0000, 0.1185, 0.0790],\n",
      "           [0.1046, 0.1314, 0.0816,  ..., 0.1497, 0.0897, 0.0000],\n",
      "           [0.0000, 0.1272, 0.1040,  ..., 0.1671, 0.0405, 0.0439],\n",
      "           ...,\n",
      "           [0.1784, 0.0000, 0.2344,  ..., 0.1066, 0.1407, 0.1294],\n",
      "           [0.2202, 0.2270, 0.0885,  ..., 0.0694, 0.1342, 0.0940],\n",
      "           [0.1382, 0.0112, 0.0908,  ..., 0.0990, 0.1058, 0.0558]],\n",
      "\n",
      "          ...,\n",
      "\n",
      "          [[0.2321, 0.0491, 0.0754,  ..., 0.0000, 0.0299, 0.1367],\n",
      "           [0.2001, 0.0277, 0.2876,  ..., 0.0895, 0.0659, 0.0996],\n",
      "           [0.0000, 0.0000, 0.0302,  ..., 0.0545, 0.1267, 0.1556],\n",
      "           ...,\n",
      "           [0.1560, 0.0167, 0.2160,  ..., 0.1538, 0.0000, 0.2160],\n",
      "           [0.0392, 0.1325, 0.0044,  ..., 0.0331, 0.1090, 0.0480],\n",
      "           [0.0770, 0.0850, 0.0160,  ..., 0.1529, 0.1098, 0.0550]],\n",
      "\n",
      "          [[0.2156, 0.0911, 0.1868,  ..., 0.0403, 0.1388, 0.1169],\n",
      "           [0.0792, 0.0000, 0.2203,  ..., 0.1191, 0.0962, 0.0724],\n",
      "           [0.0893, 0.1443, 0.0363,  ..., 0.2127, 0.1075, 0.1454],\n",
      "           ...,\n",
      "           [0.1763, 0.0613, 0.0402,  ..., 0.2648, 0.0191, 0.1288],\n",
      "           [0.1174, 0.1019, 0.1428,  ..., 0.0680, 0.1291, 0.1506],\n",
      "           [0.1409, 0.1280, 0.1370,  ..., 0.1407, 0.0718, 0.0806]],\n",
      "\n",
      "          [[0.0254, 0.1233, 0.1127,  ..., 0.0671, 0.0995, 0.1028],\n",
      "           [0.0133, 0.1898, 0.0318,  ..., 0.0868, 0.0981, 0.1407],\n",
      "           [0.1514, 0.1618, 0.0805,  ..., 0.1412, 0.1785, 0.1782],\n",
      "           ...,\n",
      "           [0.1118, 0.0405, 0.1710,  ..., 0.0461, 0.1549, 0.1584],\n",
      "           [0.1397, 0.0951, 0.0997,  ..., 0.0080, 0.1188, 0.1443],\n",
      "           [0.1078, 0.1112, 0.1068,  ..., 0.0302, 0.0762, 0.1431]]]]],\n",
      "       grad_fn=<ReluBackward0>)\n"
     ]
    }
   ],
   "source": [
    "\"\"\"\n",
    "AutoEncoder Models and/or different techniques used to encode the mesh to a smaller dimensions\n",
    "\"\"\"\n",
    "from Networks.VoxelAutoencoder import VoxelAutoencoder\n",
    "\n",
    "dim = 128\n",
    "model = VoxelAutoencoder.Network(voxel_dimension=dim)\n",
    "x = torch.randn(3, 1, dim, dim, dim)\n",
    "\n",
    "print(model(x))"
   ]
  },
  {
   "cell_type": "markdown",
   "metadata": {},
   "source": [
    "# Mesh Retreival Networks"
   ]
  },
  {
   "cell_type": "code",
   "execution_count": null,
   "metadata": {},
   "outputs": [],
   "source": [
    "\"\"\"\n",
    "Models/Techniques to use the previous encoding steps to retreive objects from a specified database\n",
    "\"\"\""
   ]
  },
  {
   "cell_type": "markdown",
   "metadata": {},
   "source": [
    "# Inference and Full Testing"
   ]
  },
  {
   "cell_type": "code",
   "execution_count": null,
   "metadata": {},
   "outputs": [],
   "source": [
    "\"\"\"\n",
    "Testing the entire pipeline implemented with added visualizations and discussions.\n",
    "\"\"\""
   ]
  },
  {
   "cell_type": "markdown",
   "metadata": {},
   "source": [
    "# Citations\n",
    "\n",
    "[1]....."
   ]
  }
 ],
 "metadata": {
  "interpreter": {
   "hash": "e7c2a59d5225d3a31d26be8da3fedd8f4fff04f1963eacdf138e0c401e96b304"
  },
  "kernelspec": {
   "display_name": "Python 3.7.11 64-bit ('i2dl': conda)",
   "language": "python",
   "name": "python3"
  },
  "language_info": {
   "codemirror_mode": {
    "name": "ipython",
    "version": 3
   },
   "file_extension": ".py",
   "mimetype": "text/x-python",
   "name": "python",
   "nbconvert_exporter": "python",
   "pygments_lexer": "ipython3",
   "version": "3.8.12"
  },
  "orig_nbformat": 4
 },
 "nbformat": 4,
 "nbformat_minor": 2
}
