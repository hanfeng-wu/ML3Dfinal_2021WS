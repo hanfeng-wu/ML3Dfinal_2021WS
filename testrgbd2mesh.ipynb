{
 "cells": [
  {
   "cell_type": "code",
   "execution_count": 1,
   "metadata": {},
   "outputs": [],
   "source": [
    "from Networks.rgbd2mesh import RGBD2Mesh\n",
    "import numpy as np\n",
    "import Imath"
   ]
  },
  {
   "cell_type": "code",
   "execution_count": 19,
   "metadata": {},
   "outputs": [],
   "source": [
    "#depth = np.loadtxt('./Networks/testdepth.txt')\n",
    "#print(depth.shape)"
   ]
  },
  {
   "cell_type": "code",
   "execution_count": 20,
   "metadata": {},
   "outputs": [],
   "source": [
    "#depthExtrinsics = np.identity(4)\n",
    "#depthExtrinsics[1][1]=-1\n",
    "#depthExtrinsics[2][2]=-1\n",
    "#depthIntrinsics = np.array([[525,0,0],[0,525,0],[319.5,239.5,1]])"
   ]
  },
  {
   "cell_type": "code",
   "execution_count": 21,
   "metadata": {},
   "outputs": [],
   "source": [
    "\n",
    "#rgb2mesh = RGBD2Mesh(depth, 480, 640, depthIntrinsics, depthExtrinsics)"
   ]
  },
  {
   "cell_type": "code",
   "execution_count": 35,
   "metadata": {},
   "outputs": [],
   "source": [
    "depthIntrinsics = np.array([[711.1111,0.0,255.5],[0.0,711.1111,255.5],[0,0,1]])\n",
    "depthExtrinsics = np.array([[-0.6859,  -0.7277, 0.0000,  +0.0079],[0.3240,  -0.3054, -0.8954,   -0.0600],[-0.6516, 0.6142, -0.4453, 11.2562],[0,0,0,1]])"
   ]
  },
  {
   "cell_type": "code",
   "execution_count": 6,
   "metadata": {},
   "outputs": [],
   "source": [
    "depthIntrinsics = np.array([[711.1111,0.0,255.5],[0.0,711.1111,255.5],[0,0,1]])\n",
    "depthExtrinsics = np.array([[0.6859, 0.7277, 0.0, -0.03], [0.324, -0.3054, -0.8954, -0.054], [-0.6516, 0.6142, -0.4453, 1.9951], [0.0, 0.0, 0.0, 1.0]])"
   ]
  },
  {
   "cell_type": "code",
   "execution_count": 11,
   "metadata": {},
   "outputs": [
    {
     "name": "stdout",
     "output_type": "stream",
     "text": [
      "<class 'bytes'>\n"
     ]
    }
   ],
   "source": [
    "import OpenEXR\n",
    "depthimg = OpenEXR.InputFile(\"./objects/000021_depth0001.exr\").channel('R')\n",
    "#depthimg = OpenEXR.InputFile(\"./Networks/depth0001.exr\").channel('R')\n",
    "print(type(depthimg))\n"
   ]
  },
  {
   "cell_type": "code",
   "execution_count": 12,
   "metadata": {},
   "outputs": [
    {
     "name": "stdout",
     "output_type": "stream",
     "text": [
      "[65504. 65504. 65504. ... 65504. 65504. 65504.]\n",
      "(262144,)\n"
     ]
    }
   ],
   "source": [
    "\n",
    "depth = np.frombuffer(depthimg, dtype=np.float32)\n",
    "\n",
    "print(depth)\n",
    "print(depth.shape)"
   ]
  },
  {
   "cell_type": "code",
   "execution_count": 13,
   "metadata": {},
   "outputs": [],
   "source": [
    "rgb2mesh = RGBD2Mesh(depth, 512,512, depthIntrinsics, depthExtrinsics)\n",
    "rgb2mesh.tomesh()"
   ]
  },
  {
   "cell_type": "code",
   "execution_count": null,
   "metadata": {},
   "outputs": [],
   "source": []
  }
 ],
 "metadata": {
  "interpreter": {
   "hash": "fc0947d0fe176f08f121a45e9c7608968179b427c711a6bc177fb4cee838f9d6"
  },
  "kernelspec": {
   "display_name": "Python 3 (ipykernel)",
   "language": "python",
   "name": "python3"
  },
  "language_info": {
   "codemirror_mode": {
    "name": "ipython",
    "version": 3
   },
   "file_extension": ".py",
   "mimetype": "text/x-python",
   "name": "python",
   "nbconvert_exporter": "python",
   "pygments_lexer": "ipython3",
   "version": "3.8.8"
  }
 },
 "nbformat": 4,
 "nbformat_minor": 4
}
