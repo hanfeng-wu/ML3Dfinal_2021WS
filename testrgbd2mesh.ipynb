{
 "cells": [
  {
   "cell_type": "code",
   "execution_count": 18,
   "metadata": {},
   "outputs": [],
   "source": [
    "from Networks.rgbd2mesh import RGBD2Mesh\n",
    "import numpy as np\n",
    "import Imath"
   ]
  },
  {
   "cell_type": "code",
   "execution_count": 19,
   "metadata": {},
   "outputs": [],
   "source": [
    "#depth = np.loadtxt('./Networks/testdepth.txt')\n",
    "#print(depth.shape)"
   ]
  },
  {
   "cell_type": "code",
   "execution_count": 20,
   "metadata": {},
   "outputs": [],
   "source": [
    "#depthExtrinsics = np.identity(4)\n",
    "#depthExtrinsics[1][1]=-1\n",
    "#depthExtrinsics[2][2]=-1\n",
    "#depthIntrinsics = np.array([[525,0,0],[0,525,0],[319.5,239.5,1]])"
   ]
  },
  {
   "cell_type": "code",
   "execution_count": 21,
   "metadata": {},
   "outputs": [],
   "source": [
    "# def minus(a, b):\n",
    "#     return (a[0]-b[0],a[1]-b[1],a[2]-b[2])\n",
    "\n",
    "# def dot(v1, v2):\n",
    "#     return v1[0]*v2[0] + v1[1]*v2[1] + v1[2]*v2[2]\n",
    "        \n",
    "# def cross(a, b):\n",
    "#     return (a[1]*b[2] - a[2]*b[1],\n",
    "#             a[2]*b[0] - a[0]*b[2],\n",
    "#             a[0]*b[1] - a[1]*b[0])\n",
    "\n",
    "# def noz(v):\n",
    "#     l = (dot(v,v))**.5\n",
    "#     return [e/l for e in v]\n",
    "\n",
    "# def m4x4_look_at(eye, target, up):\n",
    "#     # eye = (eye[1], eye[2], eye[0])\n",
    "#     # up = (up[1], up[2], up[0])\n",
    "#     f = noz(minus(target, eye));\n",
    "#     s = noz(cross(f, up));\n",
    "#     u = cross(s, f);\n",
    "\n",
    "#     result = np.identity(4)\n",
    "#     result[0][0] = s[0];\n",
    "#     result[0][1] = s[1];\n",
    "#     result[0][2] = s[2];\n",
    "#     result[1][0] = u[0];\n",
    "#     result[1][1] = u[1];\n",
    "#     result[1][2] = u[2];\n",
    "#     result[2][0] =-f[0];\n",
    "#     result[2][1] =-f[1];\n",
    "#     result[2][2] =-f[2];\n",
    "#     result[0][3] =-dot(s, eye)\n",
    "#     result[1][3] =-dot(u, eye)\n",
    "#     result[2][3] = dot(f, eye)\n",
    "    \n",
    "#     # result[0] = -result[0]\n",
    "#     result[1] = -result[1]\n",
    "#     result[2] = -result[2]\n",
    "#     return result;\n",
    "\n"
   ]
  },
  {
   "cell_type": "code",
   "execution_count": 22,
   "metadata": {},
   "outputs": [],
   "source": [
    "# def get_extrinsic_mat():\n",
    "#     m =m4x4_look_at((1.338, -1.2200, 0.8400), (0,0,0), (0,0,1))\n",
    "#     print(m)\n",
    "#     return m\n"
   ]
  },
  {
   "cell_type": "code",
   "execution_count": 7,
   "metadata": {},
   "outputs": [
    {
     "name": "stdout",
     "output_type": "stream",
     "text": [
      "<class 'bytes'>\n",
      "[65504. 65504. 65504. ... 65504. 65504. 65504.]\n",
      "(262144,)\n"
     ]
    }
   ],
   "source": [
    "depthIntrinsics = np.array([[711.1111,0.0,255.5],[0.0,711.1111,255.5],[0,0,1]])\n",
    "depthExtrinsics = np.array([[0.6859, 0.7277, 0.0, -0.03], [0.324, -0.3054, -0.8954, -0.054], [-0.6516, 0.6142, -0.4453, 1.9951], [0.0, 0.0, 0.0, 1.0]])\n",
    "# depthExtrinsics = get_extrinsic_mat()\n",
    "\n",
    "import OpenEXR\n",
    "depthimg = OpenEXR.InputFile(\"./Networks/trash_depth.exr\").channel('R')\n",
    "print(type(depthimg))\n",
    "\n",
    "depth = np.frombuffer(depthimg, dtype=np.float32)\n",
    "\n",
    "print(depth)\n",
    "print(depth.shape)\n",
    "rgb2mesh = RGBD2Mesh(depth, 512,512, depthIntrinsics, depthExtrinsics)\n",
    "rgb2mesh.tomesh()"
   ]
  },
  {
   "cell_type": "code",
   "execution_count": null,
   "metadata": {},
   "outputs": [],
   "source": []
  },
  {
   "cell_type": "code",
   "execution_count": null,
   "metadata": {},
   "outputs": [],
   "source": [
    "\n"
   ]
  },
  {
   "cell_type": "code",
   "execution_count": null,
   "metadata": {},
   "outputs": [],
   "source": []
  },
  {
   "cell_type": "code",
   "execution_count": 73,
   "metadata": {
    "scrolled": true,
    "tags": []
   },
   "outputs": [],
   "source": [
    "# for i in depth:\n",
    "#     if i>1000:\n",
    "#         continue\n",
    "#     print(i)"
   ]
  },
  {
   "cell_type": "code",
   "execution_count": null,
   "metadata": {},
   "outputs": [],
   "source": []
  }
 ],
 "metadata": {
  "interpreter": {
   "hash": "fc0947d0fe176f08f121a45e9c7608968179b427c711a6bc177fb4cee838f9d6"
  },
  "kernelspec": {
   "display_name": "Python 3 (ipykernel)",
   "language": "python",
   "name": "python3"
  },
  "language_info": {
   "codemirror_mode": {
    "name": "ipython",
    "version": 3
   },
   "file_extension": ".py",
   "mimetype": "text/x-python",
   "name": "python",
   "nbconvert_exporter": "python",
   "pygments_lexer": "ipython3",
   "version": "3.8.10"
  }
 },
 "nbformat": 4,
 "nbformat_minor": 4
}
