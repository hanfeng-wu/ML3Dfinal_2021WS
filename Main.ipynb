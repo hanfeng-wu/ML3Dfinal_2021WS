{
 "cells": [
  {
   "cell_type": "markdown",
   "metadata": {},
   "source": [
    "# Project imports"
   ]
  },
  {
   "cell_type": "code",
   "execution_count": null,
   "metadata": {},
   "outputs": [],
   "source": [
    "\"\"\"\n",
    "All needed imports included here\n",
    "\"\"\"\n",
    "%load_ext autoreload\n",
    "%autoreload 2\n",
    "import os\n",
    "import numpy as np\n",
    "import matplotlib as plt\n",
    "import trimesh\n",
    "import torch\n",
    "import skimage\n",
    "from torchvision import transforms\n",
    "import pytorch_lightning as pl\n",
    "\n"
   ]
  },
  {
   "cell_type": "code",
   "execution_count": null,
   "metadata": {},
   "outputs": [],
   "source": [
    "device = torch.device(\"cuda\" if torch.cuda.is_available() else \"cpu\")\n",
    "print(device)"
   ]
  },
  {
   "cell_type": "markdown",
   "metadata": {},
   "source": [
    "# Data Loading step"
   ]
  },
  {
   "cell_type": "code",
   "execution_count": null,
   "metadata": {},
   "outputs": [],
   "source": [
    "\"\"\"\n",
    "Create data loaders and augmentations needed here\n",
    "\"\"\"\n",
    "from Data.Image2MeshDataLoader import Image2MeshDataLoader\n",
    "image2mesh_train_dataset = Image2MeshDataLoader(images_path = \"Assets/Data/Image2Mesh/train/images/\",\n",
    "                                meshes_path = \"Assets/Data/Image2Mesh/train/meshes/\",\n",
    "                                image_size= 256, voxel_dims = (32,32,32), sample_rate = 8192)\n",
    "\n",
    "image2mesh_val_dataset = Image2MeshDataLoader(images_path = \"Assets/Data/Image2Mesh/val/images/\",\n",
    "                                meshes_path = \"Assets/Data/Image2Mesh/val/meshes/\",\n",
    "                                image_size= 256, voxel_dims = (32,32,32), sample_rate = 8192)"
   ]
  },
  {
   "cell_type": "code",
   "execution_count": null,
   "metadata": {},
   "outputs": [],
   "source": [
    "print(\"number of training datapoints is:\", len(image2mesh_train_dataset))\n",
    "print(\"Images have shapes:\", image2mesh_train_dataset[0][0].shape)\n",
    "print(\"Meshes have shapes:\",image2mesh_train_dataset[0][1].shape)\n"
   ]
  },
  {
   "cell_type": "markdown",
   "metadata": {},
   "source": [
    "# Reconstruction Networks"
   ]
  },
  {
   "cell_type": "code",
   "execution_count": null,
   "metadata": {},
   "outputs": [],
   "source": [
    "\"\"\"\n",
    "creation, training, and testing of the image2mesh reconstruction networks\n",
    "\"\"\"\n",
    "from Networks.Image2Mesh import Image2Voxel\n",
    "\n",
    "model = Image2Voxel()"
   ]
  },
  {
   "cell_type": "code",
   "execution_count": null,
   "metadata": {},
   "outputs": [],
   "source": [
    "\"\"\"\n",
    "Test out forward pass and ensure output sizes\n",
    "\"\"\"\n",
    "X = torch.rand(256,3,128,128)\n",
    "pred = model(X)\n",
    "pred.shape\n"
   ]
  },
  {
   "cell_type": "code",
   "execution_count": null,
   "metadata": {},
   "outputs": [],
   "source": [
    "\"\"\"\n",
    "Viewing some of the dataset datapoints to see what the model is training on\n",
    "\"\"\"\n",
    "# ToDo"
   ]
  },
  {
   "cell_type": "code",
   "execution_count": null,
   "metadata": {},
   "outputs": [],
   "source": [
    "def image2meshScoreFunction(preds,labels,thresh=0.5):\n",
    "    predicted_vals = preds.clone()\n",
    "    with torch.no_grad():\n",
    "        predicted_vals[predicted_vals<thresh] = 0\n",
    "        predicted_vals[predicted_vals>=thresh] = 1\n",
    "\n",
    "        acc = (labels == predicted_vals).float().mean()\n",
    "    return acc.item()"
   ]
  },
  {
   "cell_type": "code",
   "execution_count": null,
   "metadata": {},
   "outputs": [],
   "source": [
    "from Networks.Trainer import Trainer\n",
    "\n",
    "try:\n",
    "    os.mkdir(\"Assets/Models/Image2Mesh/\")\n",
    "except:\n",
    "    pass\n",
    "\n",
    "trainer = Trainer( \n",
    "        model = model,\n",
    "        model_save_path = \"Assets/Models/Image2Mesh/image2mesh.model\",\n",
    "        loss_function = torch.nn.L1Loss(),\n",
    "        optimizer = torch.optim.Adam,\n",
    "        batch_size = 8,\n",
    "        device = device,\n",
    "        training_dataset = image2mesh_train_dataset,\n",
    "        validation_dataset = image2mesh_val_dataset,\n",
    "        score_function = image2meshScoreFunction\n",
    "    )\n",
    "try:\n",
    "    trainer.fit(epochs=2,learning_rate=0.001)\n",
    "except KeyboardInterrupt:   \n",
    "    print(\"Stopped by user saving last file\")\n",
    "    model.save(\"Assets/Models/Image2Mesh/Keyboard_interrupt_temp.model\")"
   ]
  },
  {
   "cell_type": "markdown",
   "metadata": {},
   "source": [
    "# Purifying predicted Meshes"
   ]
  },
  {
   "cell_type": "code",
   "execution_count": null,
   "metadata": {},
   "outputs": [],
   "source": [
    "\"\"\"\n",
    "Code to purify meshes predicted by the previous networks to be used in the retrieval step\n",
    "\"\"\""
   ]
  },
  {
   "cell_type": "markdown",
   "metadata": {},
   "source": [
    "# Mesh Encoding"
   ]
  },
  {
   "cell_type": "code",
   "execution_count": null,
   "metadata": {},
   "outputs": [],
   "source": [
    "\"\"\"\n",
    "AutoEncoder Models and/or different techniques used to encode the mesh to a smaller dimensions\n",
    "\"\"\""
   ]
  },
  {
   "cell_type": "markdown",
   "metadata": {},
   "source": [
    "# Mesh Retreival Networks"
   ]
  },
  {
   "cell_type": "code",
   "execution_count": null,
   "metadata": {},
   "outputs": [],
   "source": [
    "\"\"\"\n",
    "Models/Techniques to use the previous encoding steps to retreive objects from a specified database\n",
    "\"\"\""
   ]
  },
  {
   "cell_type": "markdown",
   "metadata": {},
   "source": [
    "# Inference and Full Testing"
   ]
  },
  {
   "cell_type": "code",
   "execution_count": null,
   "metadata": {},
   "outputs": [],
   "source": [
    "\"\"\"\n",
    "Testing the entire pipeline implemented with added visualizations and discussions.\n",
    "\"\"\""
   ]
  },
  {
   "cell_type": "markdown",
   "metadata": {},
   "source": [
    "# Citations\n",
    "\n",
    "[1]....."
   ]
  }
 ],
 "metadata": {
  "interpreter": {
   "hash": "e7c2a59d5225d3a31d26be8da3fedd8f4fff04f1963eacdf138e0c401e96b304"
  },
  "kernelspec": {
   "display_name": "Python 3 (ipykernel)",
   "language": "python",
   "name": "python3"
  },
  "language_info": {
   "codemirror_mode": {
    "name": "ipython",
    "version": 3
   },
   "file_extension": ".py",
   "mimetype": "text/x-python",
   "name": "python",
   "nbconvert_exporter": "python",
   "pygments_lexer": "ipython3",
   "version": "3.8.10"
  }
 },
 "nbformat": 4,
 "nbformat_minor": 4
}
