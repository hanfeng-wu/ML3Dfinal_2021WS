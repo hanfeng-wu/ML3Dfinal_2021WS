{
 "cells": [
  {
   "cell_type": "markdown",
   "metadata": {},
   "source": [
    "# Project imports"
   ]
  },
  {
   "cell_type": "code",
   "execution_count": null,
   "metadata": {},
   "outputs": [],
   "source": [
    "\"\"\"\n",
    "All needed imports included here\n",
    "\"\"\"\n",
    "%load_ext autoreload\n",
    "%autoreload 2\n",
    "import os\n",
    "import numpy as np\n",
    "import matplotlib.pyplot as plt\n",
    "import trimesh\n",
    "import torch\n",
    "import skimage\n",
    "from torchvision import transforms\n",
    "import pytorch_lightning as pl\n",
    "from Utils.Visualize import visualize_mesh, visualize_occupancy, visualize_pointcloud,visualize_sdf"
   ]
  },
  {
   "cell_type": "code",
   "execution_count": null,
   "metadata": {},
   "outputs": [],
   "source": [
    "device = torch.device(\"cuda\" if torch.cuda.is_available() else \"cpu\")\n",
    "print(device)"
   ]
  },
  {
   "cell_type": "markdown",
   "metadata": {},
   "source": [
    "# Data Loading step"
   ]
  },
  {
   "cell_type": "markdown",
   "metadata": {},
   "source": [
    "Data is available at the following links: <br>\n",
    "    Images: https://mega.nz/file/bN9iRRTB#kd6-1FDc5f3cxd69Ku0btEXgAjGwtXXHCkwRGHlnHn0 <br>\n",
    "    Meshes: https://drive.google.com/drive/folders/1BtkAeuMpAC9gKexyoEpu4baRxiga5vqa\n",
    "    "
   ]
  },
  {
   "cell_type": "code",
   "execution_count": null,
   "metadata": {},
   "outputs": [],
   "source": [
    "\"\"\"\n",
    "Create data loaders and augmentations needed here\n",
    "\"\"\"\n",
    "from Data.Image2MeshDataLoader import Image2MeshDataLoader\n",
    "image2mesh_train_dataset = Image2MeshDataLoader(images_path = \"Assets/Data/image2mesh/train/images/\",\n",
    "                                meshes_path = \"Assets/Data/image2mesh/train/meshes/\",\n",
    "                                image_size= 256, voxel_dims = (32,32,32), sample_rate = 8192)\n",
    "\n",
    "image2mesh_val_dataset = Image2MeshDataLoader(images_path = \"Assets/Data/image2mesh/val/images/\",\n",
    "                                meshes_path = \"Assets/Data/image2mesh/val/meshes/\",\n",
    "                                image_size= 256, voxel_dims = (32,32,32), sample_rate = 8192)"
   ]
  },
  {
   "cell_type": "code",
   "execution_count": null,
   "metadata": {},
   "outputs": [],
   "source": [
    "print(\"number of training datapoints is:\", len(image2mesh_train_dataset))\n",
    "print(\"number of validation datapoints is:\", len(image2mesh_val_dataset))\n",
    "\n",
    "print(\"Images have shapes:\", image2mesh_train_dataset[0][0].shape)\n",
    "print(\"Meshes have shapes:\",image2mesh_train_dataset[0][1].shape)\n"
   ]
  },
  {
   "cell_type": "markdown",
   "metadata": {},
   "source": [
    "# Reconstruction Networks"
   ]
  },
  {
   "cell_type": "code",
   "execution_count": null,
   "metadata": {},
   "outputs": [],
   "source": [
    "\"\"\"\n",
    "creation, training, and testing of the image2mesh reconstruction networks\n",
    "\"\"\"\n",
    "from Networks.Image2Mesh import Image2Voxel\n",
    "\n",
    "model = Image2Voxel()"
   ]
  },
  {
   "cell_type": "code",
   "execution_count": null,
   "metadata": {},
   "outputs": [],
   "source": [
    "\"\"\"\n",
    "Test out forward pass and ensure output sizes\n",
    "\"\"\"\n",
    "X = torch.rand(10,3,128,128)\n",
    "pred = model(X)\n",
    "pred.shape\n"
   ]
  },
  {
   "cell_type": "code",
   "execution_count": null,
   "metadata": {},
   "outputs": [],
   "source": [
    "\"\"\"\n",
    "Viewing some of the dataset datapoints to see what the model is training on\n",
    "\"\"\"\n",
    "for _ in range(3):\n",
    "    idx = np.random.randint(0,len(image2mesh_train_dataset))\n",
    "    image = np.array(image2mesh_train_dataset[idx][0].permute(1,2,0))\n",
    "    mesh = np.array(image2mesh_train_dataset[idx][1])\n",
    "    # ToDo\n",
    "    plt.figure()\n",
    "    plt.imshow(image)\n",
    "    plt.show()\n",
    "    visualize_occupancy(mesh)"
   ]
  },
  {
   "cell_type": "code",
   "execution_count": null,
   "metadata": {},
   "outputs": [],
   "source": [
    "def image2meshScoreFunction(preds,labels,thresh=0.5):\n",
    "    predicted_vals = preds.clone()\n",
    "    with torch.no_grad():\n",
    "        predicted_vals[predicted_vals<thresh] = 0\n",
    "        predicted_vals[predicted_vals>=thresh] = 1\n",
    "\n",
    "        acc = (labels == predicted_vals).float().mean()\n",
    "    return acc.item()"
   ]
  },
  {
   "cell_type": "code",
   "execution_count": null,
   "metadata": {},
   "outputs": [],
   "source": [
    "def image2meshLossFunction(preds,labels,):\n",
    "        # Give higher weight to False negatives\n",
    "        filled_fraction_in_batch = (labels.sum() / labels.numel()).item()\n",
    "        # clamp the fraction, otherwise we start to get many false positives\n",
    "        filled_fraction_in_batch = max(0.03, filled_fraction_in_batch)\n",
    "        weights = torch.empty(labels.shape)\n",
    "        weights[labels < 0.5] = filled_fraction_in_batch\n",
    "        weights[labels >= 0.5] = 1 - filled_fraction_in_batch\n",
    "        weights = weights.to(device)\n",
    "\n",
    "        reconstruction_loss = torch.nn.BCELoss(reduction=\"none\")(preds, labels)\n",
    "        reconstruction_loss = (reconstruction_loss * weights).mean()\n",
    "\n",
    "        l1_loss = torch.nn.L1Loss()(preds,labels)\n",
    "\n",
    "        loss = reconstruction_loss + l1_loss\n",
    "\n",
    "        return loss"
   ]
  },
  {
   "cell_type": "code",
   "execution_count": null,
   "metadata": {},
   "outputs": [],
   "source": [
    "from Networks.Trainer import Trainer\n",
    "from Networks.Image2Mesh import Image2Voxel\n",
    "\n",
    "path_prefix = \"Assets/Models/Image2Mesh/\"\n",
    "\n",
    "try:\n",
    "    os.mkdir(path_prefix)\n",
    "except:\n",
    "    pass\n",
    "\n",
    "model = Image2Voxel()\n",
    "trainer = Trainer( \n",
    "        model = model,\n",
    "        model_save_path = f\"{path_prefix}/image2mesh.model\",\n",
    "        loss_function = image2meshLossFunction,\n",
    "        optimizer = torch.optim.Adam,\n",
    "        batch_size = 32,\n",
    "        device = device,\n",
    "        training_dataset = image2mesh_train_dataset,\n",
    "        validation_dataset = image2mesh_val_dataset,\n",
    "        score_function = image2meshScoreFunction\n",
    "    )\n",
    "try:\n",
    "    trainer.fit(epochs=100,learning_rate=0.01)\n",
    "except KeyboardInterrupt:\n",
    "    print(\"\\nStopped by user saving last file\")\n",
    "    model.save(f\"{path_prefix}/Keyboard_interrupt_temp.model\")\n",
    "model.to('cpu')"
   ]
  },
  {
   "cell_type": "markdown",
   "metadata": {},
   "source": [
    "# Visualizing Model predictions"
   ]
  },
  {
   "cell_type": "code",
   "execution_count": null,
   "metadata": {},
   "outputs": [],
   "source": [
    "model = torch.load(f\"{path_prefix}/image2mesh.model\")\n",
    "model.to(\"cpu\")"
   ]
  },
  {
   "cell_type": "code",
   "execution_count": null,
   "metadata": {},
   "outputs": [],
   "source": [
    "\n",
    "idx = np.random.randint(0,len(image2mesh_train_dataset))\n",
    "image = np.array(image2mesh_train_dataset[idx][0].permute(1,2,0))\n",
    "gt_mesh = np.array(image2mesh_train_dataset[idx][1])\n",
    "pred_mesh = model(image2mesh_train_dataset[idx][0].unsqueeze(0)).detach().numpy()\n",
    "\n",
    "pred_thresh = 0.1\n",
    "pred_mesh[pred_mesh<pred_thresh] = 0\n",
    "pred_mesh[pred_mesh>=pred_thresh] = 1\n",
    "# ToDo\n",
    "plt.figure()\n",
    "plt.imshow(image)\n",
    "plt.show()\n",
    "visualize_occupancy(gt_mesh)\n",
    "visualize_occupancy(pred_mesh)"
   ]
  },
  {
   "cell_type": "markdown",
   "metadata": {},
   "source": [
    "# Purifying predicted Meshes"
   ]
  },
  {
   "cell_type": "code",
   "execution_count": null,
   "metadata": {},
   "outputs": [],
   "source": [
    "\"\"\"\n",
    "Code to purify meshes predicted by the previous networks to be used in the retrieval step\n",
    "\"\"\""
   ]
  },
  {
   "cell_type": "markdown",
   "metadata": {},
   "source": [
    "# Mesh Encoding"
   ]
  },
  {
   "cell_type": "code",
   "execution_count": null,
   "metadata": {},
   "outputs": [],
   "source": [
    "\"\"\"\n",
    "AutoEncoder Models and/or different techniques used to encode the mesh to a smaller dimensions\n",
    "\"\"\""
   ]
  },
  {
   "cell_type": "markdown",
   "metadata": {},
   "source": [
    "# Mesh Retreival Networks"
   ]
  },
  {
   "cell_type": "code",
   "execution_count": null,
   "metadata": {},
   "outputs": [],
   "source": [
    "\"\"\"\n",
    "Models/Techniques to use the previous encoding steps to retreive objects from a specified database\n",
    "\"\"\""
   ]
  },
  {
   "cell_type": "markdown",
   "metadata": {},
   "source": [
    "# Inference and Full Testing"
   ]
  },
  {
   "cell_type": "code",
   "execution_count": null,
   "metadata": {},
   "outputs": [],
   "source": [
    "\"\"\"\n",
    "Testing the entire pipeline implemented with added visualizations and discussions.\n",
    "\"\"\""
   ]
  },
  {
   "cell_type": "markdown",
   "metadata": {},
   "source": [
    "# Citations\n",
    "\n",
    "[1]....."
   ]
  }
 ],
 "metadata": {
  "interpreter": {
   "hash": "e7c2a59d5225d3a31d26be8da3fedd8f4fff04f1963eacdf138e0c401e96b304"
  },
  "kernelspec": {
   "display_name": "Python 3 (ipykernel)",
   "language": "python",
   "name": "python3"
  },
  "language_info": {
   "codemirror_mode": {
    "name": "ipython",
    "version": 3
   },
   "file_extension": ".py",
   "mimetype": "text/x-python",
   "name": "python",
   "nbconvert_exporter": "python",
   "pygments_lexer": "ipython3",
   "version": "3.7.11"
  }
 },
 "nbformat": 4,
 "nbformat_minor": 4
}
