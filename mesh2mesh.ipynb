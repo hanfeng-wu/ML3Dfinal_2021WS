{
 "cells": [
  {
   "cell_type": "code",
   "execution_count": 1,
   "metadata": {},
   "outputs": [],
   "source": [
    "import torch\n",
    "import numpy as np\n",
    "from Networks.mesh2mesh import *\n",
    "from Networks.rgbd2mesh import RGBD2Mesh\n",
    "import trimesh\n",
    "from Networks.obj2pointcloud import *"
   ]
  },
  {
   "cell_type": "code",
   "execution_count": 2,
   "metadata": {},
   "outputs": [
    {
     "name": "stdout",
     "output_type": "stream",
     "text": [
      "torch.Size([2, 3, 11928])\n",
      "torch.Size([2, 1088, 11928])\n",
      "torch.Size([2, 11928, 3])\n"
     ]
    }
   ],
   "source": [
    "numpoints = 11928\n",
    "\n",
    "PNE = PointNetEncoder(return_point_features=True, numpoints=numpoints)\n",
    "PND = PointNetDecoder(numpoints=numpoints)\n",
    "input = torch.rand(2,3,numpoints)\n",
    "print(input.shape)\n",
    "output = PNE(input)\n",
    "print(output.shape)\n",
    "recon = PND(output)\n",
    "print(recon.shape)"
   ]
  },
  {
   "cell_type": "code",
   "execution_count": 3,
   "metadata": {},
   "outputs": [
    {
     "name": "stdout",
     "output_type": "stream",
     "text": [
      "<class 'bytes'>\n",
      "[65504. 65504. 65504. ... 65504. 65504. 65504.]\n",
      "(262144,)\n"
     ]
    },
    {
     "data": {
      "text/plain": [
       "True"
      ]
     },
     "execution_count": 3,
     "metadata": {},
     "output_type": "execute_result"
    }
   ],
   "source": [
    "depthIntrinsics = np.array([[711.1111,0.0,255.5],[0.0,711.1111,255.5],[0,0,1]])\n",
    "depthExtrinsics = np.array([[0.6859, 0.7277, 0.0, -0.03], [0.324, -0.3054, -0.8954, -0.054], [-0.6516, 0.6142, -0.4453, 1.9951], [0.0, 0.0, 0.0, 1.0]])\n",
    "import OpenEXR\n",
    "depthimg = OpenEXR.InputFile(\"./objects/000021_depth0001.exr\").channel('R')\n",
    "#depthimg = OpenEXR.InputFile(\"./Networks/depth0001.exr\").channel('R')\n",
    "print(type(depthimg))\n",
    "depth = np.frombuffer(depthimg, dtype=np.float32)\n",
    "\n",
    "print(depth)\n",
    "print(depth.shape)\n",
    "rgb2mesh = RGBD2Mesh(depth, 512,512, depthIntrinsics, depthExtrinsics)\n",
    "pcd = rgb2mesh.tomesh()\n",
    "rgb2mesh.create_faces('./testfaces.off')"
   ]
  },
  {
   "cell_type": "code",
   "execution_count": 4,
   "metadata": {},
   "outputs": [
    {
     "data": {
      "text/plain": [
       "(40000, 3)"
      ]
     },
     "execution_count": 4,
     "metadata": {},
     "output_type": "execute_result"
    }
   ],
   "source": [
    "file = open('./Data/shapenetdata/1033f41fd2decfa938da3ea2c9e0e4f/pcd_gt.obj')\n",
    "obj = trimesh.exchange.obj.load_obj(file)\n",
    "obj['vertices'].shape"
   ]
  },
  {
   "cell_type": "markdown",
   "metadata": {},
   "source": []
  },
  {
   "cell_type": "markdown",
   "metadata": {},
   "source": []
  },
  {
   "cell_type": "code",
   "execution_count": 5,
   "metadata": {},
   "outputs": [
    {
     "data": {
      "image/png": "[encoded data removed]",
      "text/plain": [
       "<Figure size 432x288 with 1 Axes>"
      ]
     },
     "metadata": {
      "needs_background": "light"
     },
     "output_type": "display_data"
    },
    {
     "ename": "KeyError",
     "evalue": "'faces'",
     "output_type": "error",
     "traceback": [
      "\u001b[0;31m---------------------------------------------------------------------------\u001b[0m",
      "\u001b[0;31mKeyError\u001b[0m                                  Traceback (most recent call last)",
      "\u001b[0;32m<ipython-input-5-a67aba0c3e2d>\u001b[0m in \u001b[0;36m<module>\u001b[0;34m\u001b[0m\n\u001b[1;32m      4\u001b[0m \u001b[0mtrimesh\u001b[0m\u001b[0;34m.\u001b[0m\u001b[0mpoints\u001b[0m\u001b[0;34m.\u001b[0m\u001b[0mplot_points\u001b[0m\u001b[0;34m(\u001b[0m\u001b[0mpcd\u001b[0m\u001b[0;34m)\u001b[0m\u001b[0;34m\u001b[0m\u001b[0;34m\u001b[0m\u001b[0m\n\u001b[1;32m      5\u001b[0m \u001b[0;34m\u001b[0m\u001b[0m\n\u001b[0;32m----> 6\u001b[0;31m \u001b[0mpcd_full\u001b[0m \u001b[0;34m=\u001b[0m \u001b[0msample_point_cloud\u001b[0m\u001b[0;34m(\u001b[0m\u001b[0mobj\u001b[0m\u001b[0;34m[\u001b[0m\u001b[0;34m'vertices'\u001b[0m\u001b[0;34m]\u001b[0m\u001b[0;34m,\u001b[0m \u001b[0mobj\u001b[0m\u001b[0;34m[\u001b[0m\u001b[0;34m'faces'\u001b[0m\u001b[0;34m]\u001b[0m\u001b[0;34m,\u001b[0m \u001b[0;36m20000\u001b[0m\u001b[0;34m)\u001b[0m\u001b[0;34m\u001b[0m\u001b[0;34m\u001b[0m\u001b[0m\n\u001b[0m\u001b[1;32m      7\u001b[0m \u001b[0mtrimesh\u001b[0m\u001b[0;34m.\u001b[0m\u001b[0mpoints\u001b[0m\u001b[0;34m.\u001b[0m\u001b[0mplot_points\u001b[0m\u001b[0;34m(\u001b[0m\u001b[0mpcd_full\u001b[0m\u001b[0;34m)\u001b[0m\u001b[0;34m\u001b[0m\u001b[0;34m\u001b[0m\u001b[0m\n\u001b[1;32m      8\u001b[0m \u001b[0mpcd_full\u001b[0m\u001b[0;34m.\u001b[0m\u001b[0mshape\u001b[0m\u001b[0;34m\u001b[0m\u001b[0;34m\u001b[0m\u001b[0m\n",
      "\u001b[0;31mKeyError\u001b[0m: 'faces'"
     ]
    }
   ],
   "source": [
    "obj['vertices'].shape\n",
    "obj_pcd = trimesh.points.PointCloud(obj['vertices'])\n",
    "obj_pcd.show()\n",
    "trimesh.points.plot_points(pcd)\n",
    "\n",
    "\n",
    "pcd_full = sample_point_cloud(obj['vertices'], obj['faces'], 20000)\n",
    "trimesh.points.plot_points(pcd_full)\n",
    "pcd_full.shape\n",
    "\n",
    "export_pointcloud_to_obj('./pcd_full.obj', pcd_full)\n",
    "\n",
    "\n",
    "pcd_recon = rgb2mesh.to_pcd(10000)\n",
    "trimesh.points.plot_points(pcd_recon)\n",
    "export_pointcloud_to_obj('./pcd_recon.obj', pcd_recon)\n",
    "\n",
    "\n"
   ]
  },
  {
   "cell_type": "code",
   "execution_count": 10,
   "metadata": {},
   "outputs": [
    {
     "data": {
      "text/plain": [
       "numpy.ndarray"
      ]
     },
     "execution_count": 10,
     "metadata": {},
     "output_type": "execute_result"
    }
   ],
   "source": [
    "type(pcd)"
   ]
  },
  {
   "cell_type": "code",
   "execution_count": 12,
   "metadata": {},
   "outputs": [
    {
     "data": {
      "text/plain": [
       "(4513, 3)"
      ]
     },
     "execution_count": 12,
     "metadata": {},
     "output_type": "execute_result"
    }
   ],
   "source": [
    "obj['vertices'].shape\n"
   ]
  },
  {
   "cell_type": "code",
   "execution_count": 25,
   "metadata": {},
   "outputs": [],
   "source": [
    "t = t[None,:,:]"
   ]
  },
  {
   "cell_type": "code",
   "execution_count": 29,
   "metadata": {},
   "outputs": [
    {
     "data": {
      "text/plain": [
       "torch.Size([2, 3, 11928])"
      ]
     },
     "execution_count": 29,
     "metadata": {},
     "output_type": "execute_result"
    }
   ],
   "source": [
    "t2 = torch.cat((t,t),dim=0)\n",
    "t2.shape"
   ]
  },
  {
   "cell_type": "code",
   "execution_count": 27,
   "metadata": {},
   "outputs": [
    {
     "data": {
      "text/plain": [
       "torch.Size([1, 3, 11928])"
      ]
     },
     "execution_count": 27,
     "metadata": {},
     "output_type": "execute_result"
    }
   ],
   "source": [
    "EPOCH=10\n",
    "\n",
    "for epoch in range(EPOCH):\n",
    "    \n"
   ]
  },
  {
   "cell_type": "code",
   "execution_count": null,
   "metadata": {},
   "outputs": [],
   "source": []
  }
 ],
 "metadata": {
  "interpreter": {
   "hash": "fc0947d0fe176f08f121a45e9c7608968179b427c711a6bc177fb4cee838f9d6"
  },
  "kernelspec": {
   "display_name": "Python 3.8.8 64-bit ('base': conda)",
   "language": "python",
   "name": "python3"
  },
  "language_info": {
   "codemirror_mode": {
    "name": "ipython",
    "version": 3
   },
   "file_extension": ".py",
   "mimetype": "text/x-python",
   "name": "python",
   "nbconvert_exporter": "python",
   "pygments_lexer": "ipython3",
   "version": "3.8.8"
  },
  "orig_nbformat": 4
 },
 "nbformat": 4,
 "nbformat_minor": 2
}
